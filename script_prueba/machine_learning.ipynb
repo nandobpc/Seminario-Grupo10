{
 "cells": [
  {
   "cell_type": "markdown",
   "id": "ba92b676",
   "metadata": {},
   "source": [
    "# Machine Learning Proyecto Sismos en Ecuador"
   ]
  },
  {
   "cell_type": "markdown",
   "id": "c7eb450f",
   "metadata": {},
   "source": [
    "## Librerias Machine Learning"
   ]
  },
  {
   "cell_type": "code",
   "execution_count": null,
   "id": "cb225050",
   "metadata": {},
   "outputs": [],
   "source": [
    "import pandas as pd\n",
    "import numpy as numpy\n",
    "import time\n",
    "import matplotlib.pyplot as plt\n",
    "import seaborn as sns\n",
    "from pathlib import Path\n",
    "\n",
    "#  visualización interactiva \n",
    "import plotly.express as px\n",
    "sns.set(style=\"whitegrid\")"
   ]
  },
  {
   "cell_type": "markdown",
   "id": "f456c209",
   "metadata": {},
   "source": [
    "## Cargar datos sismicos"
   ]
  },
  {
   "cell_type": "code",
   "execution_count": 11,
   "id": "abe01c4e",
   "metadata": {},
   "outputs": [
    {
     "name": "stderr",
     "output_type": "stream",
     "text": [
      "<>:4: SyntaxWarning: invalid escape sequence '\\s'\n",
      "<>:4: SyntaxWarning: invalid escape sequence '\\s'\n",
      "C:\\Users\\Famil\\AppData\\Local\\Temp\\ipykernel_11048\\3076957942.py:4: SyntaxWarning: invalid escape sequence '\\s'\n",
      "  df = pd.read_csv(ruta_datos, comment='#', sep=',\\s*', engine='python')\n",
      "C:\\Users\\Famil\\AppData\\Local\\Temp\\ipykernel_11048\\3076957942.py:4: SyntaxWarning: invalid escape sequence '\\s'\n",
      "  df = pd.read_csv(ruta_datos, comment='#', sep=',\\s*', engine='python')\n"
     ]
    },
    {
     "ename": "NameError",
     "evalue": "name 'Path' is not defined",
     "output_type": "error",
     "traceback": [
      "\u001b[31m---------------------------------------------------------------------------\u001b[39m",
      "\u001b[31mNameError\u001b[39m                                 Traceback (most recent call last)",
      "\u001b[36mCell\u001b[39m\u001b[36m \u001b[39m\u001b[32mIn[11]\u001b[39m\u001b[32m, line 1\u001b[39m\n\u001b[32m----> \u001b[39m\u001b[32m1\u001b[39m ruta_datos = \u001b[43mPath\u001b[49m(\u001b[33m\"\u001b[39m\u001b[33m../data/cat_origen_2012-jul2025.txt\u001b[39m\u001b[33m\"\u001b[39m)\n\u001b[32m      3\u001b[39m \u001b[38;5;66;03m# Cargar el CSV ignorando las líneas de comentario\u001b[39;00m\n\u001b[32m      4\u001b[39m df = pd.read_csv(ruta_datos, comment=\u001b[33m'\u001b[39m\u001b[33m#\u001b[39m\u001b[33m'\u001b[39m, sep=\u001b[33m'\u001b[39m\u001b[33m,\u001b[39m\u001b[33m\\\u001b[39m\u001b[33ms*\u001b[39m\u001b[33m'\u001b[39m, engine=\u001b[33m'\u001b[39m\u001b[33mpython\u001b[39m\u001b[33m'\u001b[39m)\n",
      "\u001b[31mNameError\u001b[39m: name 'Path' is not defined"
     ]
    }
   ],
   "source": [
    "ruta_datos = Path(\"../data/cat_origen_2012-jul2025.txt\")\n",
    "\n",
    "# Cargar el CSV ignorando las líneas de comentario\n",
    "df = pd.read_csv(ruta_datos, comment='#', sep=',\\s*', engine='python')\n",
    "\n",
    "# Verificar los primeros registros\n",
    "df.head()\n"
   ]
  }
 ],
 "metadata": {
  "kernelspec": {
   "display_name": "Python 3",
   "language": "python",
   "name": "python3"
  },
  "language_info": {
   "codemirror_mode": {
    "name": "ipython",
    "version": 3
   },
   "file_extension": ".py",
   "mimetype": "text/x-python",
   "name": "python",
   "nbconvert_exporter": "python",
   "pygments_lexer": "ipython3",
   "version": "3.13.1"
  }
 },
 "nbformat": 4,
 "nbformat_minor": 5
}
